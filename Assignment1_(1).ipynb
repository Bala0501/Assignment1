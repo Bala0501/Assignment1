{
  "nbformat": 4,
  "nbformat_minor": 0,
  "metadata": {
    "colab": {
      "name": "Assignment1.ipynb",
      "provenance": []
    },
    "kernelspec": {
      "name": "python3",
      "display_name": "Python 3"
    },
    "language_info": {
      "name": "python"
    }
  },
  "cells": [
    {
      "cell_type": "markdown",
      "metadata": {
        "id": "m3mBiMgJPSil"
      },
      "source": [
        ""
      ]
    },
    {
      "cell_type": "markdown",
      "metadata": {
        "id": "L5X8K0pdPU5F"
      },
      "source": [
        "Assignment 01"
      ]
    },
    {
      "cell_type": "code",
      "metadata": {
        "colab": {
          "base_uri": "https://localhost:8080/"
        },
        "id": "dSUMP0N7Pdir",
        "outputId": "89e02cfe-ada5-411b-a6c2-b0967ea988f9"
      },
      "source": [
        "n=int(input())\n",
        "a=1\n",
        "d=2 \n",
        "sum=((n/2)*((2*a)+(n-1)*d))\n",
        "print(sum)"
      ],
      "execution_count": 4,
      "outputs": [
        {
          "output_type": "stream",
          "name": "stdout",
          "text": [
            "4\n",
            "16.0\n"
          ]
        }
      ]
    }
  ]
}